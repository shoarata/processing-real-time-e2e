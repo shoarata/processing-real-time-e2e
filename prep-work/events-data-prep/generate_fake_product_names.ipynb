{
 "cells": [
  {
   "cell_type": "code",
   "execution_count": 1,
   "id": "1abefa8f",
   "metadata": {},
   "outputs": [],
   "source": [
    "import pandas as pd"
   ]
  },
  {
   "cell_type": "code",
   "execution_count": 2,
   "id": "671c7de6",
   "metadata": {},
   "outputs": [],
   "source": [
    "events = pd.read_csv(\"events.csv\")"
   ]
  },
  {
   "cell_type": "code",
   "execution_count": 3,
   "id": "24c8c822",
   "metadata": {},
   "outputs": [
    {
     "data": {
      "text/plain": [
       "Index(['event_time', 'event_type', 'product_id', 'category_id',\n",
       "       'category_code', 'brand', 'price', 'user_id', 'user_session', 'ip'],\n",
       "      dtype='object')"
      ]
     },
     "execution_count": 3,
     "metadata": {},
     "output_type": "execute_result"
    }
   ],
   "source": [
    "events.columns"
   ]
  },
  {
   "cell_type": "code",
   "execution_count": 7,
   "id": "c0a8204f",
   "metadata": {},
   "outputs": [
    {
     "data": {
      "text/plain": [
       "(885129, 10)"
      ]
     },
     "execution_count": 7,
     "metadata": {},
     "output_type": "execute_result"
    }
   ],
   "source": [
    "events.shape"
   ]
  },
  {
   "cell_type": "code",
   "execution_count": 47,
   "id": "fb362ea4",
   "metadata": {},
   "outputs": [],
   "source": [
    "unique_products = events[[\"product_id\", \"category_code\", \"brand\"]].dropna(subset=\"product_id\").fillna(\"generic\").drop_duplicates()"
   ]
  },
  {
   "cell_type": "code",
   "execution_count": 48,
   "id": "5e3f6677",
   "metadata": {},
   "outputs": [
    {
     "data": {
      "text/html": [
       "<div>\n",
       "<style scoped>\n",
       "    .dataframe tbody tr th:only-of-type {\n",
       "        vertical-align: middle;\n",
       "    }\n",
       "\n",
       "    .dataframe tbody tr th {\n",
       "        vertical-align: top;\n",
       "    }\n",
       "\n",
       "    .dataframe thead th {\n",
       "        text-align: right;\n",
       "    }\n",
       "</style>\n",
       "<table border=\"1\" class=\"dataframe\">\n",
       "  <thead>\n",
       "    <tr style=\"text-align: right;\">\n",
       "      <th></th>\n",
       "      <th>product_id</th>\n",
       "      <th>category_code</th>\n",
       "      <th>brand</th>\n",
       "    </tr>\n",
       "  </thead>\n",
       "  <tbody>\n",
       "    <tr>\n",
       "      <th>0</th>\n",
       "      <td>1996170</td>\n",
       "      <td>electronics.telephone</td>\n",
       "      <td>generic</td>\n",
       "    </tr>\n",
       "    <tr>\n",
       "      <th>1</th>\n",
       "      <td>139905</td>\n",
       "      <td>computers.components.cooler</td>\n",
       "      <td>zalman</td>\n",
       "    </tr>\n",
       "    <tr>\n",
       "      <th>2</th>\n",
       "      <td>215454</td>\n",
       "      <td>generic</td>\n",
       "      <td>generic</td>\n",
       "    </tr>\n",
       "    <tr>\n",
       "      <th>3</th>\n",
       "      <td>635807</td>\n",
       "      <td>computers.peripherals.printer</td>\n",
       "      <td>pantum</td>\n",
       "    </tr>\n",
       "    <tr>\n",
       "      <th>4</th>\n",
       "      <td>3658723</td>\n",
       "      <td>generic</td>\n",
       "      <td>cameronsino</td>\n",
       "    </tr>\n",
       "    <tr>\n",
       "      <th>...</th>\n",
       "      <td>...</td>\n",
       "      <td>...</td>\n",
       "      <td>...</td>\n",
       "    </tr>\n",
       "    <tr>\n",
       "      <th>884632</th>\n",
       "      <td>4101157</td>\n",
       "      <td>generic</td>\n",
       "      <td>stayer</td>\n",
       "    </tr>\n",
       "    <tr>\n",
       "      <th>884693</th>\n",
       "      <td>3791269</td>\n",
       "      <td>computers.peripherals.scanner</td>\n",
       "      <td>cipherlab</td>\n",
       "    </tr>\n",
       "    <tr>\n",
       "      <th>884735</th>\n",
       "      <td>4099355</td>\n",
       "      <td>electronics.telephone</td>\n",
       "      <td>generic</td>\n",
       "    </tr>\n",
       "    <tr>\n",
       "      <th>884905</th>\n",
       "      <td>332207</td>\n",
       "      <td>electronics.audio.acoustic</td>\n",
       "      <td>hama</td>\n",
       "    </tr>\n",
       "    <tr>\n",
       "      <th>885048</th>\n",
       "      <td>3721183</td>\n",
       "      <td>auto.accessories.player</td>\n",
       "      <td>prology</td>\n",
       "    </tr>\n",
       "  </tbody>\n",
       "</table>\n",
       "<p>53453 rows × 3 columns</p>\n",
       "</div>"
      ],
      "text/plain": [
       "        product_id                  category_code        brand\n",
       "0          1996170          electronics.telephone      generic\n",
       "1           139905    computers.components.cooler       zalman\n",
       "2           215454                        generic      generic\n",
       "3           635807  computers.peripherals.printer       pantum\n",
       "4          3658723                        generic  cameronsino\n",
       "...            ...                            ...          ...\n",
       "884632     4101157                        generic       stayer\n",
       "884693     3791269  computers.peripherals.scanner    cipherlab\n",
       "884735     4099355          electronics.telephone      generic\n",
       "884905      332207     electronics.audio.acoustic         hama\n",
       "885048     3721183        auto.accessories.player      prology\n",
       "\n",
       "[53453 rows x 3 columns]"
      ]
     },
     "execution_count": 48,
     "metadata": {},
     "output_type": "execute_result"
    }
   ],
   "source": [
    "unique_products"
   ]
  },
  {
   "cell_type": "code",
   "execution_count": 49,
   "id": "c91833a8",
   "metadata": {},
   "outputs": [],
   "source": [
    "def generate_product_name(row, name_version):\n",
    "    name = f\"\"\"{row[\"brand\"]} {row[\"category_code\"].split(\".\")[-1]}\"\"\"\n",
    "    version = name_version.get(name, 0) + 1\n",
    "    name_version[name] = version\n",
    "    return f\"{name} V{version}\"\n",
    "    "
   ]
  },
  {
   "cell_type": "code",
   "execution_count": 50,
   "id": "5a385bd9",
   "metadata": {},
   "outputs": [],
   "source": [
    "name_version = {}\n",
    "unique_products[\"product_name\"] = unique_products.apply(lambda row: generate_product_name(row, name_version), axis=1)    "
   ]
  },
  {
   "cell_type": "code",
   "execution_count": 51,
   "id": "c11f84ce",
   "metadata": {},
   "outputs": [
    {
     "data": {
      "text/html": [
       "<div>\n",
       "<style scoped>\n",
       "    .dataframe tbody tr th:only-of-type {\n",
       "        vertical-align: middle;\n",
       "    }\n",
       "\n",
       "    .dataframe tbody tr th {\n",
       "        vertical-align: top;\n",
       "    }\n",
       "\n",
       "    .dataframe thead th {\n",
       "        text-align: right;\n",
       "    }\n",
       "</style>\n",
       "<table border=\"1\" class=\"dataframe\">\n",
       "  <thead>\n",
       "    <tr style=\"text-align: right;\">\n",
       "      <th></th>\n",
       "      <th>product_id</th>\n",
       "      <th>category_code</th>\n",
       "      <th>brand</th>\n",
       "      <th>product_name</th>\n",
       "    </tr>\n",
       "  </thead>\n",
       "  <tbody>\n",
       "    <tr>\n",
       "      <th>0</th>\n",
       "      <td>1996170</td>\n",
       "      <td>electronics.telephone</td>\n",
       "      <td>generic</td>\n",
       "      <td>generic telephone V1</td>\n",
       "    </tr>\n",
       "    <tr>\n",
       "      <th>1</th>\n",
       "      <td>139905</td>\n",
       "      <td>computers.components.cooler</td>\n",
       "      <td>zalman</td>\n",
       "      <td>zalman cooler V1</td>\n",
       "    </tr>\n",
       "    <tr>\n",
       "      <th>2</th>\n",
       "      <td>215454</td>\n",
       "      <td>generic</td>\n",
       "      <td>generic</td>\n",
       "      <td>generic generic V1</td>\n",
       "    </tr>\n",
       "    <tr>\n",
       "      <th>3</th>\n",
       "      <td>635807</td>\n",
       "      <td>computers.peripherals.printer</td>\n",
       "      <td>pantum</td>\n",
       "      <td>pantum printer V1</td>\n",
       "    </tr>\n",
       "    <tr>\n",
       "      <th>4</th>\n",
       "      <td>3658723</td>\n",
       "      <td>generic</td>\n",
       "      <td>cameronsino</td>\n",
       "      <td>cameronsino generic V1</td>\n",
       "    </tr>\n",
       "    <tr>\n",
       "      <th>...</th>\n",
       "      <td>...</td>\n",
       "      <td>...</td>\n",
       "      <td>...</td>\n",
       "      <td>...</td>\n",
       "    </tr>\n",
       "    <tr>\n",
       "      <th>884632</th>\n",
       "      <td>4101157</td>\n",
       "      <td>generic</td>\n",
       "      <td>stayer</td>\n",
       "      <td>stayer generic V41</td>\n",
       "    </tr>\n",
       "    <tr>\n",
       "      <th>884693</th>\n",
       "      <td>3791269</td>\n",
       "      <td>computers.peripherals.scanner</td>\n",
       "      <td>cipherlab</td>\n",
       "      <td>cipherlab scanner V1</td>\n",
       "    </tr>\n",
       "    <tr>\n",
       "      <th>884735</th>\n",
       "      <td>4099355</td>\n",
       "      <td>electronics.telephone</td>\n",
       "      <td>generic</td>\n",
       "      <td>generic telephone V3535</td>\n",
       "    </tr>\n",
       "    <tr>\n",
       "      <th>884905</th>\n",
       "      <td>332207</td>\n",
       "      <td>electronics.audio.acoustic</td>\n",
       "      <td>hama</td>\n",
       "      <td>hama acoustic V32</td>\n",
       "    </tr>\n",
       "    <tr>\n",
       "      <th>885048</th>\n",
       "      <td>3721183</td>\n",
       "      <td>auto.accessories.player</td>\n",
       "      <td>prology</td>\n",
       "      <td>prology player V9</td>\n",
       "    </tr>\n",
       "  </tbody>\n",
       "</table>\n",
       "<p>53453 rows × 4 columns</p>\n",
       "</div>"
      ],
      "text/plain": [
       "        product_id                  category_code        brand  \\\n",
       "0          1996170          electronics.telephone      generic   \n",
       "1           139905    computers.components.cooler       zalman   \n",
       "2           215454                        generic      generic   \n",
       "3           635807  computers.peripherals.printer       pantum   \n",
       "4          3658723                        generic  cameronsino   \n",
       "...            ...                            ...          ...   \n",
       "884632     4101157                        generic       stayer   \n",
       "884693     3791269  computers.peripherals.scanner    cipherlab   \n",
       "884735     4099355          electronics.telephone      generic   \n",
       "884905      332207     electronics.audio.acoustic         hama   \n",
       "885048     3721183        auto.accessories.player      prology   \n",
       "\n",
       "                   product_name  \n",
       "0          generic telephone V1  \n",
       "1              zalman cooler V1  \n",
       "2            generic generic V1  \n",
       "3             pantum printer V1  \n",
       "4        cameronsino generic V1  \n",
       "...                         ...  \n",
       "884632       stayer generic V41  \n",
       "884693     cipherlab scanner V1  \n",
       "884735  generic telephone V3535  \n",
       "884905        hama acoustic V32  \n",
       "885048        prology player V9  \n",
       "\n",
       "[53453 rows x 4 columns]"
      ]
     },
     "execution_count": 51,
     "metadata": {},
     "output_type": "execute_result"
    }
   ],
   "source": [
    "unique_products"
   ]
  },
  {
   "cell_type": "code",
   "execution_count": null,
   "id": "91439710",
   "metadata": {},
   "outputs": [],
   "source": [
    "unique_producst.to_csv(\"products.csv\", index=False)"
   ]
  }
 ],
 "metadata": {
  "kernelspec": {
   "display_name": "Python 3 (ipykernel)",
   "language": "python",
   "name": "python3"
  },
  "language_info": {
   "codemirror_mode": {
    "name": "ipython",
    "version": 3
   },
   "file_extension": ".py",
   "mimetype": "text/x-python",
   "name": "python",
   "nbconvert_exporter": "python",
   "pygments_lexer": "ipython3",
   "version": "3.10.9"
  }
 },
 "nbformat": 4,
 "nbformat_minor": 5
}
